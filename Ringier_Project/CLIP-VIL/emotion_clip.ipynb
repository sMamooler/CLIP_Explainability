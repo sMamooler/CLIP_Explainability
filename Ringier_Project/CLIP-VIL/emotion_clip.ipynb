{
 "cells": [
  {
   "cell_type": "code",
   "execution_count": 16,
   "id": "57dd5dc3-f572-421a-b43e-2b287295c893",
   "metadata": {},
   "outputs": [
    {
     "name": "stdout",
     "output_type": "stream",
     "text": [
      "Requirement already satisfied: opencv-python in /home/mamooler/miniconda/envs/habitat/lib/python3.7/site-packages (4.5.4.58)\n",
      "Requirement already satisfied: numpy>=1.14.5 in /home/mamooler/miniconda/envs/habitat/lib/python3.7/site-packages (from opencv-python) (1.20.3)\n",
      "Requirement already satisfied: ftfy in /home/mamooler/miniconda/envs/habitat/lib/python3.7/site-packages (6.0.3)\n",
      "Requirement already satisfied: regex in /home/mamooler/miniconda/envs/habitat/lib/python3.7/site-packages (2021.10.8)\n",
      "Requirement already satisfied: tqdm in /home/mamooler/miniconda/envs/habitat/lib/python3.7/site-packages (4.62.3)\n",
      "Requirement already satisfied: wcwidth in /home/mamooler/miniconda/envs/habitat/lib/python3.7/site-packages (from ftfy) (0.2.5)\n",
      "Requirement already satisfied: streamlit in /home/mamooler/miniconda/envs/habitat/lib/python3.7/site-packages (1.1.0)\n",
      "Requirement already satisfied: python-dateutil in /home/mamooler/miniconda/envs/habitat/lib/python3.7/site-packages (from streamlit) (2.8.2)\n",
      "Requirement already satisfied: astor in /home/mamooler/miniconda/envs/habitat/lib/python3.7/site-packages (from streamlit) (0.8.1)\n",
      "Requirement already satisfied: pyarrow in /home/mamooler/miniconda/envs/habitat/lib/python3.7/site-packages (from streamlit) (6.0.0)\n",
      "Requirement already satisfied: blinker in /home/mamooler/miniconda/envs/habitat/lib/python3.7/site-packages (from streamlit) (1.4)\n",
      "Requirement already satisfied: requests in /home/mamooler/miniconda/envs/habitat/lib/python3.7/site-packages (from streamlit) (2.25.1)\n",
      "Requirement already satisfied: pillow>=6.2.0 in /home/mamooler/miniconda/envs/habitat/lib/python3.7/site-packages (from streamlit) (8.3.1)\n",
      "Requirement already satisfied: validators in /home/mamooler/miniconda/envs/habitat/lib/python3.7/site-packages (from streamlit) (0.18.2)\n",
      "Requirement already satisfied: pydeck>=0.1.dev5 in /home/mamooler/miniconda/envs/habitat/lib/python3.7/site-packages (from streamlit) (0.7.1)\n",
      "Requirement already satisfied: cachetools>=4.0 in /home/mamooler/miniconda/envs/habitat/lib/python3.7/site-packages (from streamlit) (4.2.4)\n",
      "Requirement already satisfied: packaging in /home/mamooler/miniconda/envs/habitat/lib/python3.7/site-packages (from streamlit) (21.0)\n",
      "Requirement already satisfied: attrs in /home/mamooler/miniconda/envs/habitat/lib/python3.7/site-packages (from streamlit) (21.2.0)\n",
      "Requirement already satisfied: gitpython!=3.1.19 in /home/mamooler/miniconda/envs/habitat/lib/python3.7/site-packages (from streamlit) (3.1.24)\n",
      "Requirement already satisfied: pandas>=0.21.0 in /home/mamooler/miniconda/envs/habitat/lib/python3.7/site-packages (from streamlit) (1.3.3)\n",
      "Requirement already satisfied: protobuf!=3.11,>=3.6.0 in /home/mamooler/miniconda/envs/habitat/lib/python3.7/site-packages (from streamlit) (3.18.1)\n",
      "Requirement already satisfied: tornado>=5.0 in /home/mamooler/miniconda/envs/habitat/lib/python3.7/site-packages (from streamlit) (6.1)\n",
      "Requirement already satisfied: base58 in /home/mamooler/miniconda/envs/habitat/lib/python3.7/site-packages (from streamlit) (2.1.0)\n",
      "Requirement already satisfied: altair>=3.2.0 in /home/mamooler/miniconda/envs/habitat/lib/python3.7/site-packages (from streamlit) (4.1.0)\n",
      "Requirement already satisfied: click<8.0,>=7.0 in /home/mamooler/miniconda/envs/habitat/lib/python3.7/site-packages (from streamlit) (7.1.2)\n",
      "Requirement already satisfied: watchdog in /home/mamooler/miniconda/envs/habitat/lib/python3.7/site-packages (from streamlit) (2.1.6)\n",
      "Requirement already satisfied: toml in /home/mamooler/miniconda/envs/habitat/lib/python3.7/site-packages (from streamlit) (0.10.2)\n",
      "Requirement already satisfied: tzlocal in /home/mamooler/miniconda/envs/habitat/lib/python3.7/site-packages (from streamlit) (4.0.2)\n",
      "Requirement already satisfied: numpy in /home/mamooler/miniconda/envs/habitat/lib/python3.7/site-packages (from streamlit) (1.20.3)\n",
      "Requirement already satisfied: jsonschema in /home/mamooler/miniconda/envs/habitat/lib/python3.7/site-packages (from altair>=3.2.0->streamlit) (4.1.0)\n",
      "Requirement already satisfied: entrypoints in /home/mamooler/miniconda/envs/habitat/lib/python3.7/site-packages (from altair>=3.2.0->streamlit) (0.3)\n",
      "Requirement already satisfied: toolz in /home/mamooler/miniconda/envs/habitat/lib/python3.7/site-packages (from altair>=3.2.0->streamlit) (0.11.1)\n",
      "Requirement already satisfied: jinja2 in /home/mamooler/miniconda/envs/habitat/lib/python3.7/site-packages (from altair>=3.2.0->streamlit) (3.0.2)\n",
      "Requirement already satisfied: gitdb<5,>=4.0.1 in /home/mamooler/miniconda/envs/habitat/lib/python3.7/site-packages (from gitpython!=3.1.19->streamlit) (4.0.7)\n",
      "Requirement already satisfied: typing-extensions>=3.7.4.3 in /home/mamooler/miniconda/envs/habitat/lib/python3.7/site-packages (from gitpython!=3.1.19->streamlit) (3.10.0.2)\n",
      "Requirement already satisfied: smmap<5,>=3.0.1 in /home/mamooler/miniconda/envs/habitat/lib/python3.7/site-packages (from gitdb<5,>=4.0.1->gitpython!=3.1.19->streamlit) (4.0.0)\n",
      "Requirement already satisfied: pytz>=2017.3 in /home/mamooler/miniconda/envs/habitat/lib/python3.7/site-packages (from pandas>=0.21.0->streamlit) (2021.3)\n",
      "Requirement already satisfied: traitlets>=4.3.2 in /home/mamooler/miniconda/envs/habitat/lib/python3.7/site-packages (from pydeck>=0.1.dev5->streamlit) (5.1.0)\n",
      "Requirement already satisfied: ipywidgets>=7.0.0 in /home/mamooler/miniconda/envs/habitat/lib/python3.7/site-packages (from pydeck>=0.1.dev5->streamlit) (7.6.5)\n",
      "Requirement already satisfied: ipykernel>=5.1.2 in /home/mamooler/miniconda/envs/habitat/lib/python3.7/site-packages (from pydeck>=0.1.dev5->streamlit) (6.4.1)\n",
      "Requirement already satisfied: jupyter-client<8.0 in /home/mamooler/miniconda/envs/habitat/lib/python3.7/site-packages (from ipykernel>=5.1.2->pydeck>=0.1.dev5->streamlit) (7.0.6)\n",
      "Requirement already satisfied: importlib-metadata<5 in /home/mamooler/miniconda/envs/habitat/lib/python3.7/site-packages (from ipykernel>=5.1.2->pydeck>=0.1.dev5->streamlit) (4.8.1)\n",
      "Requirement already satisfied: argcomplete>=1.12.3 in /home/mamooler/miniconda/envs/habitat/lib/python3.7/site-packages (from ipykernel>=5.1.2->pydeck>=0.1.dev5->streamlit) (1.12.3)\n",
      "Requirement already satisfied: matplotlib-inline<0.2.0,>=0.1.0 in /home/mamooler/miniconda/envs/habitat/lib/python3.7/site-packages (from ipykernel>=5.1.2->pydeck>=0.1.dev5->streamlit) (0.1.3)\n",
      "Requirement already satisfied: ipython<8.0,>=7.23.1 in /home/mamooler/miniconda/envs/habitat/lib/python3.7/site-packages (from ipykernel>=5.1.2->pydeck>=0.1.dev5->streamlit) (7.28.0)\n",
      "Requirement already satisfied: ipython-genutils in /home/mamooler/miniconda/envs/habitat/lib/python3.7/site-packages (from ipykernel>=5.1.2->pydeck>=0.1.dev5->streamlit) (0.2.0)\n",
      "Requirement already satisfied: debugpy<2.0,>=1.0.0 in /home/mamooler/miniconda/envs/habitat/lib/python3.7/site-packages (from ipykernel>=5.1.2->pydeck>=0.1.dev5->streamlit) (1.2.0)\n",
      "Requirement already satisfied: zipp>=0.5 in /home/mamooler/miniconda/envs/habitat/lib/python3.7/site-packages (from importlib-metadata<5->ipykernel>=5.1.2->pydeck>=0.1.dev5->streamlit) (3.6.0)\n",
      "Requirement already satisfied: backcall in /home/mamooler/miniconda/envs/habitat/lib/python3.7/site-packages (from ipython<8.0,>=7.23.1->ipykernel>=5.1.2->pydeck>=0.1.dev5->streamlit) (0.2.0)\n",
      "Requirement already satisfied: prompt-toolkit!=3.0.0,!=3.0.1,<3.1.0,>=2.0.0 in /home/mamooler/miniconda/envs/habitat/lib/python3.7/site-packages (from ipython<8.0,>=7.23.1->ipykernel>=5.1.2->pydeck>=0.1.dev5->streamlit) (3.0.20)\n",
      "Requirement already satisfied: jedi>=0.16 in /home/mamooler/miniconda/envs/habitat/lib/python3.7/site-packages (from ipython<8.0,>=7.23.1->ipykernel>=5.1.2->pydeck>=0.1.dev5->streamlit) (0.18.0)\n",
      "Requirement already satisfied: pexpect>4.3 in /home/mamooler/miniconda/envs/habitat/lib/python3.7/site-packages (from ipython<8.0,>=7.23.1->ipykernel>=5.1.2->pydeck>=0.1.dev5->streamlit) (4.8.0)\n",
      "Requirement already satisfied: decorator in /home/mamooler/miniconda/envs/habitat/lib/python3.7/site-packages (from ipython<8.0,>=7.23.1->ipykernel>=5.1.2->pydeck>=0.1.dev5->streamlit) (5.1.0)\n",
      "Requirement already satisfied: setuptools>=18.5 in /home/mamooler/miniconda/envs/habitat/lib/python3.7/site-packages (from ipython<8.0,>=7.23.1->ipykernel>=5.1.2->pydeck>=0.1.dev5->streamlit) (58.0.4)\n",
      "Requirement already satisfied: pygments in /home/mamooler/miniconda/envs/habitat/lib/python3.7/site-packages (from ipython<8.0,>=7.23.1->ipykernel>=5.1.2->pydeck>=0.1.dev5->streamlit) (2.10.0)\n",
      "Requirement already satisfied: pickleshare in /home/mamooler/miniconda/envs/habitat/lib/python3.7/site-packages (from ipython<8.0,>=7.23.1->ipykernel>=5.1.2->pydeck>=0.1.dev5->streamlit) (0.7.5)\n",
      "Requirement already satisfied: nbformat>=4.2.0 in /home/mamooler/miniconda/envs/habitat/lib/python3.7/site-packages (from ipywidgets>=7.0.0->pydeck>=0.1.dev5->streamlit) (5.1.3)\n",
      "Requirement already satisfied: widgetsnbextension~=3.5.0 in /home/mamooler/miniconda/envs/habitat/lib/python3.7/site-packages (from ipywidgets>=7.0.0->pydeck>=0.1.dev5->streamlit) (3.5.1)\n",
      "Requirement already satisfied: jupyterlab-widgets>=1.0.0 in /home/mamooler/miniconda/envs/habitat/lib/python3.7/site-packages (from ipywidgets>=7.0.0->pydeck>=0.1.dev5->streamlit) (1.0.2)\n",
      "Requirement already satisfied: parso<0.9.0,>=0.8.0 in /home/mamooler/miniconda/envs/habitat/lib/python3.7/site-packages (from jedi>=0.16->ipython<8.0,>=7.23.1->ipykernel>=5.1.2->pydeck>=0.1.dev5->streamlit) (0.8.2)\n",
      "Requirement already satisfied: MarkupSafe>=2.0 in /home/mamooler/miniconda/envs/habitat/lib/python3.7/site-packages (from jinja2->altair>=3.2.0->streamlit) (2.0.1)\n",
      "Requirement already satisfied: pyzmq>=13 in /home/mamooler/miniconda/envs/habitat/lib/python3.7/site-packages (from jupyter-client<8.0->ipykernel>=5.1.2->pydeck>=0.1.dev5->streamlit) (20.0.0)\n",
      "Requirement already satisfied: jupyter-core>=4.6.0 in /home/mamooler/miniconda/envs/habitat/lib/python3.7/site-packages (from jupyter-client<8.0->ipykernel>=5.1.2->pydeck>=0.1.dev5->streamlit) (4.8.1)\n",
      "Requirement already satisfied: nest-asyncio>=1.5 in /home/mamooler/miniconda/envs/habitat/lib/python3.7/site-packages (from jupyter-client<8.0->ipykernel>=5.1.2->pydeck>=0.1.dev5->streamlit) (1.5.1)\n",
      "Requirement already satisfied: pyrsistent!=0.17.0,!=0.17.1,!=0.17.2,>=0.14.0 in /home/mamooler/miniconda/envs/habitat/lib/python3.7/site-packages (from jsonschema->altair>=3.2.0->streamlit) (0.17.3)\n",
      "Requirement already satisfied: ptyprocess>=0.5 in /home/mamooler/miniconda/envs/habitat/lib/python3.7/site-packages (from pexpect>4.3->ipython<8.0,>=7.23.1->ipykernel>=5.1.2->pydeck>=0.1.dev5->streamlit) (0.7.0)\n",
      "Requirement already satisfied: wcwidth in /home/mamooler/miniconda/envs/habitat/lib/python3.7/site-packages (from prompt-toolkit!=3.0.0,!=3.0.1,<3.1.0,>=2.0.0->ipython<8.0,>=7.23.1->ipykernel>=5.1.2->pydeck>=0.1.dev5->streamlit) (0.2.5)\n",
      "Requirement already satisfied: six>=1.5 in /home/mamooler/miniconda/envs/habitat/lib/python3.7/site-packages (from python-dateutil->streamlit) (1.16.0)\n",
      "Requirement already satisfied: notebook>=4.4.1 in /home/mamooler/miniconda/envs/habitat/lib/python3.7/site-packages (from widgetsnbextension~=3.5.0->ipywidgets>=7.0.0->pydeck>=0.1.dev5->streamlit) (6.4.4)\n",
      "Requirement already satisfied: nbconvert in /home/mamooler/miniconda/envs/habitat/lib/python3.7/site-packages (from notebook>=4.4.1->widgetsnbextension~=3.5.0->ipywidgets>=7.0.0->pydeck>=0.1.dev5->streamlit) (6.2.0)\n",
      "Requirement already satisfied: prometheus-client in /home/mamooler/miniconda/envs/habitat/lib/python3.7/site-packages (from notebook>=4.4.1->widgetsnbextension~=3.5.0->ipywidgets>=7.0.0->pydeck>=0.1.dev5->streamlit) (0.11.0)\n",
      "Requirement already satisfied: argon2-cffi in /home/mamooler/miniconda/envs/habitat/lib/python3.7/site-packages (from notebook>=4.4.1->widgetsnbextension~=3.5.0->ipywidgets>=7.0.0->pydeck>=0.1.dev5->streamlit) (20.1.0)\n",
      "Requirement already satisfied: Send2Trash>=1.5.0 in /home/mamooler/miniconda/envs/habitat/lib/python3.7/site-packages (from notebook>=4.4.1->widgetsnbextension~=3.5.0->ipywidgets>=7.0.0->pydeck>=0.1.dev5->streamlit) (1.8.0)\n",
      "Requirement already satisfied: terminado>=0.8.3 in /home/mamooler/miniconda/envs/habitat/lib/python3.7/site-packages (from notebook>=4.4.1->widgetsnbextension~=3.5.0->ipywidgets>=7.0.0->pydeck>=0.1.dev5->streamlit) (0.12.1)\n",
      "Requirement already satisfied: cffi>=1.0.0 in /home/mamooler/miniconda/envs/habitat/lib/python3.7/site-packages (from argon2-cffi->notebook>=4.4.1->widgetsnbextension~=3.5.0->ipywidgets>=7.0.0->pydeck>=0.1.dev5->streamlit) (1.14.6)\n",
      "Requirement already satisfied: pycparser in /home/mamooler/miniconda/envs/habitat/lib/python3.7/site-packages (from cffi>=1.0.0->argon2-cffi->notebook>=4.4.1->widgetsnbextension~=3.5.0->ipywidgets>=7.0.0->pydeck>=0.1.dev5->streamlit) (2.20)\n",
      "Requirement already satisfied: bleach in /home/mamooler/miniconda/envs/habitat/lib/python3.7/site-packages (from nbconvert->notebook>=4.4.1->widgetsnbextension~=3.5.0->ipywidgets>=7.0.0->pydeck>=0.1.dev5->streamlit) (4.1.0)\n",
      "Requirement already satisfied: jupyterlab-pygments in /home/mamooler/miniconda/envs/habitat/lib/python3.7/site-packages (from nbconvert->notebook>=4.4.1->widgetsnbextension~=3.5.0->ipywidgets>=7.0.0->pydeck>=0.1.dev5->streamlit) (0.1.2)\n",
      "Requirement already satisfied: defusedxml in /home/mamooler/miniconda/envs/habitat/lib/python3.7/site-packages (from nbconvert->notebook>=4.4.1->widgetsnbextension~=3.5.0->ipywidgets>=7.0.0->pydeck>=0.1.dev5->streamlit) (0.7.1)\n",
      "Requirement already satisfied: testpath in /home/mamooler/miniconda/envs/habitat/lib/python3.7/site-packages (from nbconvert->notebook>=4.4.1->widgetsnbextension~=3.5.0->ipywidgets>=7.0.0->pydeck>=0.1.dev5->streamlit) (0.5.0)\n",
      "Requirement already satisfied: nbclient<0.6.0,>=0.5.0 in /home/mamooler/miniconda/envs/habitat/lib/python3.7/site-packages (from nbconvert->notebook>=4.4.1->widgetsnbextension~=3.5.0->ipywidgets>=7.0.0->pydeck>=0.1.dev5->streamlit) (0.5.4)\n",
      "Requirement already satisfied: pandocfilters>=1.4.1 in /home/mamooler/miniconda/envs/habitat/lib/python3.7/site-packages (from nbconvert->notebook>=4.4.1->widgetsnbextension~=3.5.0->ipywidgets>=7.0.0->pydeck>=0.1.dev5->streamlit) (1.5.0)\n",
      "Requirement already satisfied: mistune<2,>=0.8.1 in /home/mamooler/miniconda/envs/habitat/lib/python3.7/site-packages (from nbconvert->notebook>=4.4.1->widgetsnbextension~=3.5.0->ipywidgets>=7.0.0->pydeck>=0.1.dev5->streamlit) (0.8.4)\n",
      "Requirement already satisfied: webencodings in /home/mamooler/miniconda/envs/habitat/lib/python3.7/site-packages (from bleach->nbconvert->notebook>=4.4.1->widgetsnbextension~=3.5.0->ipywidgets>=7.0.0->pydeck>=0.1.dev5->streamlit) (0.5.1)\n",
      "Requirement already satisfied: pyparsing>=2.0.2 in /home/mamooler/miniconda/envs/habitat/lib/python3.7/site-packages (from packaging->streamlit) (2.4.7)\n",
      "Requirement already satisfied: certifi>=2017.4.17 in /home/mamooler/miniconda/envs/habitat/lib/python3.7/site-packages (from requests->streamlit) (2021.10.8)\n",
      "Requirement already satisfied: idna<3,>=2.5 in /home/mamooler/miniconda/envs/habitat/lib/python3.7/site-packages (from requests->streamlit) (2.10)\n",
      "Requirement already satisfied: chardet<5,>=3.0.2 in /home/mamooler/miniconda/envs/habitat/lib/python3.7/site-packages (from requests->streamlit) (4.0.0)\n",
      "Requirement already satisfied: urllib3<1.27,>=1.21.1 in /home/mamooler/miniconda/envs/habitat/lib/python3.7/site-packages (from requests->streamlit) (1.26.7)\n",
      "Requirement already satisfied: backports.zoneinfo in /home/mamooler/miniconda/envs/habitat/lib/python3.7/site-packages (from tzlocal->streamlit) (0.2.1)\n",
      "Requirement already satisfied: pytz-deprecation-shim in /home/mamooler/miniconda/envs/habitat/lib/python3.7/site-packages (from tzlocal->streamlit) (0.1.0.post0)\n",
      "Requirement already satisfied: tzdata in /home/mamooler/miniconda/envs/habitat/lib/python3.7/site-packages (from pytz-deprecation-shim->tzlocal->streamlit) (2021.5)\n",
      "Requirement already satisfied: torchray in /home/mamooler/miniconda/envs/habitat/lib/python3.7/site-packages (1.0.0.2)\n",
      "Requirement already satisfied: pymongo in /home/mamooler/miniconda/envs/habitat/lib/python3.7/site-packages (from torchray) (3.12.1)\n",
      "Requirement already satisfied: importlib-resources in /home/mamooler/miniconda/envs/habitat/lib/python3.7/site-packages (from torchray) (5.3.0)\n",
      "Requirement already satisfied: packaging in /home/mamooler/miniconda/envs/habitat/lib/python3.7/site-packages (from torchray) (21.0)\n",
      "Requirement already satisfied: pycocotools>=2.0.0 in /home/mamooler/miniconda/envs/habitat/lib/python3.7/site-packages (from torchray) (2.0.2)\n",
      "Requirement already satisfied: matplotlib in /home/mamooler/miniconda/envs/habitat/lib/python3.7/site-packages (from torchray) (3.4.2)\n",
      "Requirement already satisfied: torchvision>=0.3.0 in /home/mamooler/miniconda/envs/habitat/lib/python3.7/site-packages (from torchray) (0.8.2)\n",
      "Requirement already satisfied: requests in /home/mamooler/miniconda/envs/habitat/lib/python3.7/site-packages (from torchray) (2.25.1)\n",
      "Requirement already satisfied: torch>=1.1 in /home/mamooler/miniconda/envs/habitat/lib/python3.7/site-packages (from torchray) (1.7.1)\n",
      "Requirement already satisfied: cython>=0.27.3 in /home/mamooler/miniconda/envs/habitat/lib/python3.7/site-packages (from pycocotools>=2.0.0->torchray) (0.29.24)\n",
      "Requirement already satisfied: setuptools>=18.0 in /home/mamooler/miniconda/envs/habitat/lib/python3.7/site-packages (from pycocotools>=2.0.0->torchray) (58.0.4)\n",
      "Requirement already satisfied: kiwisolver>=1.0.1 in /home/mamooler/miniconda/envs/habitat/lib/python3.7/site-packages (from matplotlib->torchray) (1.3.1)\n",
      "Requirement already satisfied: cycler>=0.10 in /home/mamooler/miniconda/envs/habitat/lib/python3.7/site-packages (from matplotlib->torchray) (0.10.0)\n",
      "Requirement already satisfied: numpy>=1.16 in /home/mamooler/miniconda/envs/habitat/lib/python3.7/site-packages (from matplotlib->torchray) (1.20.3)\n",
      "Requirement already satisfied: pyparsing>=2.2.1 in /home/mamooler/miniconda/envs/habitat/lib/python3.7/site-packages (from matplotlib->torchray) (2.4.7)\n",
      "Requirement already satisfied: pillow>=6.2.0 in /home/mamooler/miniconda/envs/habitat/lib/python3.7/site-packages (from matplotlib->torchray) (8.3.1)\n",
      "Requirement already satisfied: python-dateutil>=2.7 in /home/mamooler/miniconda/envs/habitat/lib/python3.7/site-packages (from matplotlib->torchray) (2.8.2)\n",
      "Requirement already satisfied: six in /home/mamooler/miniconda/envs/habitat/lib/python3.7/site-packages (from cycler>=0.10->matplotlib->torchray) (1.16.0)\n",
      "Requirement already satisfied: typing_extensions in /home/mamooler/miniconda/envs/habitat/lib/python3.7/site-packages (from torch>=1.1->torchray) (3.10.0.2)\n",
      "Requirement already satisfied: zipp>=3.1.0 in /home/mamooler/miniconda/envs/habitat/lib/python3.7/site-packages (from importlib-resources->torchray) (3.6.0)\n",
      "Requirement already satisfied: urllib3<1.27,>=1.21.1 in /home/mamooler/miniconda/envs/habitat/lib/python3.7/site-packages (from requests->torchray) (1.26.7)\n",
      "Requirement already satisfied: certifi>=2017.4.17 in /home/mamooler/miniconda/envs/habitat/lib/python3.7/site-packages (from requests->torchray) (2021.10.8)\n",
      "Requirement already satisfied: chardet<5,>=3.0.2 in /home/mamooler/miniconda/envs/habitat/lib/python3.7/site-packages (from requests->torchray) (4.0.0)\n",
      "Requirement already satisfied: idna<3,>=2.5 in /home/mamooler/miniconda/envs/habitat/lib/python3.7/site-packages (from requests->torchray) (2.10)\n"
     ]
    }
   ],
   "source": [
    "! pip install opencv-python\n",
    "! pip install ftfy regex tqdm\n",
    "! pip install streamlit\n",
    "! pip install torchray"
   ]
  },
  {
   "cell_type": "code",
   "execution_count": 17,
   "id": "3172217f-5ad1-4301-a408-2d1ce608c7a4",
   "metadata": {},
   "outputs": [],
   "source": [
    "import os\n",
    "os.environ[\"CUDA_DEVICE_ORDER\"]=\"PCI_BUS_ID\"   # see issue #152\n",
    "os.environ[\"CUDA_VISIBLE_DEVICES\"]=\"0\"\n",
    "import torch\n",
    "from model import build_model\n",
    "from clip_ import load, tokenize\n",
    "from PIL import Image\n",
    "import numpy as np\n",
    "import cv2\n",
    "import matplotlib.pyplot as plt\n",
    "import streamlit as st\n",
    "from torchray.attribution.grad_cam import grad_cam\n",
    "from matplotlib import rc\n",
    "import os\n",
    "from torchvision.transforms import Compose, Resize, CenterCrop, ToTensor, Normalize\n",
    "import matplotlib"
   ]
  },
  {
   "cell_type": "code",
   "execution_count": 18,
   "id": "4ceca55f-0a44-45b5-8f09-8941f8d2c8ec",
   "metadata": {},
   "outputs": [],
   "source": [
    "def interpret_vit(image, text, model, device, index=None):\n",
    "    logits_per_image, logits_per_text = model(image, text)\n",
    "    probs = logits_per_image.softmax(dim=-1).detach().cpu().numpy()\n",
    "    if index is None:\n",
    "        index = np.argmax(logits_per_image.cpu().data.numpy(), axis=-1)\n",
    "    one_hot = np.zeros((1, logits_per_image.size()[-1]), dtype=np.float32)\n",
    "    one_hot[0, index] = 1\n",
    "    one_hot = torch.from_numpy(one_hot).requires_grad_(True)\n",
    "    one_hot = torch.sum(one_hot.cuda() * logits_per_image)\n",
    "    model.zero_grad()\n",
    "    one_hot.backward(retain_graph=True)\n",
    "\n",
    "    image_attn_blocks = list(dict(model.visual.transformer.resblocks.named_children()).values())\n",
    "    num_tokens = image_attn_blocks[0].attn_probs.shape[-1]\n",
    "    R = torch.eye(num_tokens, num_tokens, dtype=image_attn_blocks[0].attn_probs.dtype).to(device)\n",
    "    for blk in image_attn_blocks:\n",
    "        grad = blk.attn_grad\n",
    "        cam = blk.attn_probs\n",
    "        cam = cam.reshape(-1, cam.shape[-1], cam.shape[-1])\n",
    "        grad = grad.reshape(-1, grad.shape[-1], grad.shape[-1])\n",
    "        cam = grad * cam\n",
    "        cam = cam.clamp(min=0).mean(dim=0)\n",
    "        R += torch.matmul(cam, R)\n",
    "    R[0, 0] = 0\n",
    "    image_relevance = R[0, 1:]\n",
    "\n",
    "    # create heatmap from mask on image\n",
    "    def show_cam_on_image(img, mask):\n",
    "        heatmap = cv2.applyColorMap(np.uint8(255 * mask), cv2.COLORMAP_JET)\n",
    "        heatmap = np.float32(heatmap) / 255\n",
    "        cam = heatmap + np.float32(img)\n",
    "        cam = cam / np.max(cam)\n",
    "        return cam\n",
    "\n",
    "    image_relevance = image_relevance.reshape(1, 1, 7, 7)\n",
    "    image_relevance = torch.nn.functional.interpolate(image_relevance, size=224, mode='bilinear')\n",
    "    image_relevance = image_relevance.reshape(224, 224).cuda().data.cpu().numpy()\n",
    "    image_relevance = (image_relevance - image_relevance.min()) / (image_relevance.max() - image_relevance.min())\n",
    "    image = image[0].permute(1, 2, 0).data.cpu().numpy()\n",
    "    image = (image - image.min()) / (image.max() - image.min())\n",
    "    vis = show_cam_on_image(image, image_relevance)\n",
    "    vis = np.uint8(255*vis)\n",
    "    vis = cv2.cvtColor(np.array(vis), cv2.COLOR_RGB2BGR)\n",
    "\n",
    "    #plt.imshow(vis)\n",
    "    return vis\n",
    "    #return vis\n",
    "#     plt.show()"
   ]
  },
  {
   "cell_type": "code",
   "execution_count": 19,
   "id": "df1d59e7-2493-42ab-9772-c829afbffd58",
   "metadata": {},
   "outputs": [
    {
     "name": "stdout",
     "output_type": "stream",
     "text": [
      "102007137\n"
     ]
    }
   ],
   "source": [
    "st.sidebar.header('Options')\n",
    "alpha = st.sidebar.radio(\"select alpha\", [0.5, 0.7, 0.8], index=1)\n",
    "layer = st.sidebar.selectbox(\"select saliency layer\", ['layer4.2.relu'], index=0)\n",
    "\n",
    "device = \"cuda\" if torch.cuda.is_available() else \"cpu\"\n",
    "model_rn_4, preprocess = load(\"RN50x4\", device=device, jit=False)\n",
    "model_rn, preprocess = load(\"RN50\", device=device, jit=False)\n",
    "\n",
    "print(sum(p.numel() for p in model_rn.parameters() if p.requires_grad))\n",
    "\n",
    "def interpret_rn(image, text, model, device, index=None):   \n",
    "    image_features = model.encode_image(image)\n",
    "    text_features = model.encode_text(text)\n",
    "    image_features_norm = image_features.norm(dim=-1, keepdim=True)\n",
    "    image_features_new = image_features / image_features_norm\n",
    "    text_features_norm = text_features.norm(dim=-1, keepdim=True)\n",
    "    text_features_new = text_features / text_features_norm\n",
    "    \n",
    "    logit_scale = model.logit_scale.exp()\n",
    "    logits_per_image = logit_scale * image_features_new @ text_features_new.t()\n",
    "    probs = logits_per_image.softmax(dim=-1).cpu().detach().numpy().tolist()\n",
    "    \n",
    "    text_prediction = (text_features_new * image_features_norm)\n",
    "    image_relevance = grad_cam(model.visual, image.type(model.dtype), text_prediction, saliency_layer=layer)\n",
    "        \n",
    "#     image_relevance = grad_cam(model.visual, image.type(model.dtype), image_features, saliency_layer=layer)\n",
    "\n",
    "    # create heatmap from mask on image\n",
    "    def show_cam_on_image(img, mask):\n",
    "        heatmap = cv2.applyColorMap(np.uint8(255 * mask), cv2.COLORMAP_JET)\n",
    "        heatmap = np.float32(heatmap) / 255\n",
    "        cam = heatmap + np.float32(img)\n",
    "        cam = cam / np.max(cam)\n",
    "        return cam\n",
    "\n",
    "    image_relevance = image_relevance.reshape(1, 1, 7, 7)\n",
    "    image_relevance = torch.nn.functional.interpolate(image_relevance, size=224, mode='bilinear')\n",
    "    image_relevance = image_relevance.reshape(224, 224).cuda().data.cpu().numpy()\n",
    "    image_relevance = (image_relevance - image_relevance.min()) / (image_relevance.max() - image_relevance.min())\n",
    "    image = image[0].permute(1, 2, 0).data.cpu().numpy()\n",
    "    image = (image - image.min()) / (image.max() - image.min())\n",
    "    vis = show_cam_on_image(image, image_relevance)\n",
    "    vis = np.uint8(255 * vis)\n",
    "    vis = cv2.cvtColor(np.array(vis), cv2.COLOR_RGB2BGR)\n",
    "\n",
    "    plt.imshow(vis)\n",
    "    #return vis"
   ]
  },
  {
   "cell_type": "code",
   "execution_count": 20,
   "id": "abe2b71b-7a73-44ab-92ad-2075f5b72922",
   "metadata": {},
   "outputs": [
    {
     "name": "stdout",
     "output_type": "stream",
     "text": [
      "151277313\n"
     ]
    }
   ],
   "source": [
    "device = \"cuda\" if torch.cuda.is_available() else \"cpu\"\n",
    "model, preprocess = load(\"ViT-B/32\", device=device, jit=False)\n",
    "print(sum(p.numel() for p in model.parameters() if p.requires_grad))"
   ]
  },
  {
   "cell_type": "code",
   "execution_count": 21,
   "id": "1570a319-6a96-473d-b06e-9bbfff02715e",
   "metadata": {},
   "outputs": [],
   "source": [
    "class color:\n",
    "   PURPLE = '\\033[95m'\n",
    "   CYAN = '\\033[96m'\n",
    "   DARKCYAN = '\\033[36m'\n",
    "   BLUE = '\\033[94m'\n",
    "   GREEN = '\\033[92m'\n",
    "   YELLOW = '\\033[93m'\n",
    "   RED = '\\033[91m'\n",
    "   BOLD = '\\033[1m'\n",
    "   UNDERLINE = '\\033[4m'\n",
    "   END = '\\033[0m'"
   ]
  },
  {
   "cell_type": "code",
   "execution_count": 22,
   "id": "78751c63-d198-4099-a552-bcdee7079f4c",
   "metadata": {},
   "outputs": [],
   "source": [
    "matplotlib.rcParams['mathtext.fontset'] = 'custom'\n",
    "matplotlib.rcParams['mathtext.rm'] = 'Bitstream Vera Sans'\n",
    "matplotlib.rcParams['mathtext.it'] = 'Bitstream Vera Sans:italic'\n",
    "matplotlib.rcParams['mathtext.bf'] = 'Bitstream Vera Sans:bold'\n",
    "# matplotlib.rcParams['mathtext.size'] = 16"
   ]
  },
  {
   "cell_type": "code",
   "execution_count": 23,
   "id": "9dd6e9d9-276d-4135-8384-fc669bd50ded",
   "metadata": {},
   "outputs": [],
   "source": [
    "def sim_score(model, image, texts):\n",
    "        texts = tokenize(texts).to(device)\n",
    "        logits_per_image, logits_per_text = model(image, texts)\n",
    "        probs = logits_per_image.softmax(dim=-1).detach().cpu().numpy()\n",
    "\n",
    "        return probs[0]"
   ]
  },
  {
   "cell_type": "code",
   "execution_count": 24,
   "id": "eae21494-8046-43db-80a7-c11c4d9012f1",
   "metadata": {},
   "outputs": [
    {
     "name": "stdout",
     "output_type": "stream",
     "text": [
      "Compose(\n",
      "    Resize(size=224, interpolation=PIL.Image.BICUBIC)\n",
      "    CenterCrop(size=(224, 224))\n",
      "    <function _transform.<locals>.<lambda> at 0x7fd5902435f0>\n",
      "    ToTensor()\n",
      "    Normalize(mean=(0.48145466, 0.4578275, 0.40821073), std=(0.26862954, 0.26130258, 0.27577711))\n",
      ")\n"
     ]
    }
   ],
   "source": [
    "import pandas as pd\n",
    "\n",
    "\n",
    "\n",
    "model_types = [\"ViT\", \"RN50\"]\n",
    "\n",
    "font = {\n",
    "    'size': 15,\n",
    "}\n",
    "\n",
    "ori_preprocess = Compose([\n",
    "        Resize((224), interpolation=Image.BICUBIC),\n",
    "    CenterCrop(size=(224, 224)),\n",
    "        ToTensor()])\n",
    "print(preprocess)"
   ]
  },
  {
   "cell_type": "code",
   "execution_count": 275,
   "id": "5e174cd3-be80-442f-8ac6-34547dca9860",
   "metadata": {},
   "outputs": [
    {
     "ename": "KeyboardInterrupt",
     "evalue": "",
     "output_type": "error",
     "traceback": [
      "\u001b[0;31m---------------------------------------------------------------------------\u001b[0m",
      "\u001b[0;31mKeyboardInterrupt\u001b[0m                         Traceback (most recent call last)",
      "\u001b[0;32m/tmp/ipykernel_902/3048312772.py\u001b[0m in \u001b[0;36m<module>\u001b[0;34m\u001b[0m\n\u001b[1;32m     11\u001b[0m         \u001b[0mimg_path\u001b[0m \u001b[0;34m=\u001b[0m  \u001b[0mos\u001b[0m\u001b[0;34m.\u001b[0m\u001b[0mpath\u001b[0m\u001b[0;34m.\u001b[0m\u001b[0mjoin\u001b[0m\u001b[0;34m(\u001b[0m\u001b[0mhappy_root\u001b[0m\u001b[0;34m,\u001b[0m \u001b[0mimg_id\u001b[0m\u001b[0;34m)\u001b[0m\u001b[0;34m\u001b[0m\u001b[0;34m\u001b[0m\u001b[0m\n\u001b[1;32m     12\u001b[0m         \u001b[0mimage\u001b[0m \u001b[0;34m=\u001b[0m \u001b[0mori_preprocess\u001b[0m\u001b[0;34m(\u001b[0m\u001b[0mImage\u001b[0m\u001b[0;34m.\u001b[0m\u001b[0mopen\u001b[0m\u001b[0;34m(\u001b[0m\u001b[0mimg_path\u001b[0m\u001b[0;34m)\u001b[0m\u001b[0;34m)\u001b[0m\u001b[0;34m\u001b[0m\u001b[0;34m\u001b[0m\u001b[0m\n\u001b[0;32m---> 13\u001b[0;31m         \u001b[0mp_image\u001b[0m \u001b[0;34m=\u001b[0m \u001b[0mpreprocess\u001b[0m\u001b[0;34m(\u001b[0m\u001b[0mImage\u001b[0m\u001b[0;34m.\u001b[0m\u001b[0mopen\u001b[0m\u001b[0;34m(\u001b[0m\u001b[0mimg_path\u001b[0m\u001b[0;34m)\u001b[0m\u001b[0;34m)\u001b[0m\u001b[0;34m.\u001b[0m\u001b[0munsqueeze\u001b[0m\u001b[0;34m(\u001b[0m\u001b[0;36m0\u001b[0m\u001b[0;34m)\u001b[0m\u001b[0;34m.\u001b[0m\u001b[0mto\u001b[0m\u001b[0;34m(\u001b[0m\u001b[0mdevice\u001b[0m\u001b[0;34m)\u001b[0m\u001b[0;34m\u001b[0m\u001b[0;34m\u001b[0m\u001b[0m\n\u001b[0m\u001b[1;32m     14\u001b[0m \u001b[0;34m\u001b[0m\u001b[0m\n\u001b[1;32m     15\u001b[0m \u001b[0;34m\u001b[0m\u001b[0m\n",
      "\u001b[0;32m~/miniconda/envs/habitat/lib/python3.7/site-packages/torchvision/transforms/transforms.py\u001b[0m in \u001b[0;36m__call__\u001b[0;34m(self, img)\u001b[0m\n\u001b[1;32m     65\u001b[0m     \u001b[0;32mdef\u001b[0m \u001b[0m__call__\u001b[0m\u001b[0;34m(\u001b[0m\u001b[0mself\u001b[0m\u001b[0;34m,\u001b[0m \u001b[0mimg\u001b[0m\u001b[0;34m)\u001b[0m\u001b[0;34m:\u001b[0m\u001b[0;34m\u001b[0m\u001b[0;34m\u001b[0m\u001b[0m\n\u001b[1;32m     66\u001b[0m         \u001b[0;32mfor\u001b[0m \u001b[0mt\u001b[0m \u001b[0;32min\u001b[0m \u001b[0mself\u001b[0m\u001b[0;34m.\u001b[0m\u001b[0mtransforms\u001b[0m\u001b[0;34m:\u001b[0m\u001b[0;34m\u001b[0m\u001b[0;34m\u001b[0m\u001b[0m\n\u001b[0;32m---> 67\u001b[0;31m             \u001b[0mimg\u001b[0m \u001b[0;34m=\u001b[0m \u001b[0mt\u001b[0m\u001b[0;34m(\u001b[0m\u001b[0mimg\u001b[0m\u001b[0;34m)\u001b[0m\u001b[0;34m\u001b[0m\u001b[0;34m\u001b[0m\u001b[0m\n\u001b[0m\u001b[1;32m     68\u001b[0m         \u001b[0;32mreturn\u001b[0m \u001b[0mimg\u001b[0m\u001b[0;34m\u001b[0m\u001b[0;34m\u001b[0m\u001b[0m\n\u001b[1;32m     69\u001b[0m \u001b[0;34m\u001b[0m\u001b[0m\n",
      "\u001b[0;32m~/miniconda/envs/habitat/lib/python3.7/site-packages/torchvision/transforms/transforms.py\u001b[0m in \u001b[0;36m__call__\u001b[0;34m(self, pic)\u001b[0m\n\u001b[1;32m    102\u001b[0m             \u001b[0mTensor\u001b[0m\u001b[0;34m:\u001b[0m \u001b[0mConverted\u001b[0m \u001b[0mimage\u001b[0m\u001b[0;34m.\u001b[0m\u001b[0;34m\u001b[0m\u001b[0;34m\u001b[0m\u001b[0m\n\u001b[1;32m    103\u001b[0m         \"\"\"\n\u001b[0;32m--> 104\u001b[0;31m         \u001b[0;32mreturn\u001b[0m \u001b[0mF\u001b[0m\u001b[0;34m.\u001b[0m\u001b[0mto_tensor\u001b[0m\u001b[0;34m(\u001b[0m\u001b[0mpic\u001b[0m\u001b[0;34m)\u001b[0m\u001b[0;34m\u001b[0m\u001b[0;34m\u001b[0m\u001b[0m\n\u001b[0m\u001b[1;32m    105\u001b[0m \u001b[0;34m\u001b[0m\u001b[0m\n\u001b[1;32m    106\u001b[0m     \u001b[0;32mdef\u001b[0m \u001b[0m__repr__\u001b[0m\u001b[0;34m(\u001b[0m\u001b[0mself\u001b[0m\u001b[0;34m)\u001b[0m\u001b[0;34m:\u001b[0m\u001b[0;34m\u001b[0m\u001b[0;34m\u001b[0m\u001b[0m\n",
      "\u001b[0;32m~/miniconda/envs/habitat/lib/python3.7/site-packages/torchvision/transforms/functional.py\u001b[0m in \u001b[0;36mto_tensor\u001b[0;34m(pic)\u001b[0m\n\u001b[1;32m     94\u001b[0m         \u001b[0mimg\u001b[0m \u001b[0;34m=\u001b[0m \u001b[0;36m255\u001b[0m \u001b[0;34m*\u001b[0m \u001b[0mtorch\u001b[0m\u001b[0;34m.\u001b[0m\u001b[0mfrom_numpy\u001b[0m\u001b[0;34m(\u001b[0m\u001b[0mnp\u001b[0m\u001b[0;34m.\u001b[0m\u001b[0marray\u001b[0m\u001b[0;34m(\u001b[0m\u001b[0mpic\u001b[0m\u001b[0;34m,\u001b[0m \u001b[0mnp\u001b[0m\u001b[0;34m.\u001b[0m\u001b[0muint8\u001b[0m\u001b[0;34m,\u001b[0m \u001b[0mcopy\u001b[0m\u001b[0;34m=\u001b[0m\u001b[0;32mFalse\u001b[0m\u001b[0;34m)\u001b[0m\u001b[0;34m)\u001b[0m\u001b[0;34m\u001b[0m\u001b[0;34m\u001b[0m\u001b[0m\n\u001b[1;32m     95\u001b[0m     \u001b[0;32melse\u001b[0m\u001b[0;34m:\u001b[0m\u001b[0;34m\u001b[0m\u001b[0;34m\u001b[0m\u001b[0m\n\u001b[0;32m---> 96\u001b[0;31m         \u001b[0mimg\u001b[0m \u001b[0;34m=\u001b[0m \u001b[0mtorch\u001b[0m\u001b[0;34m.\u001b[0m\u001b[0mByteTensor\u001b[0m\u001b[0;34m(\u001b[0m\u001b[0mtorch\u001b[0m\u001b[0;34m.\u001b[0m\u001b[0mByteStorage\u001b[0m\u001b[0;34m.\u001b[0m\u001b[0mfrom_buffer\u001b[0m\u001b[0;34m(\u001b[0m\u001b[0mpic\u001b[0m\u001b[0;34m.\u001b[0m\u001b[0mtobytes\u001b[0m\u001b[0;34m(\u001b[0m\u001b[0;34m)\u001b[0m\u001b[0;34m)\u001b[0m\u001b[0;34m)\u001b[0m\u001b[0;34m\u001b[0m\u001b[0;34m\u001b[0m\u001b[0m\n\u001b[0m\u001b[1;32m     97\u001b[0m \u001b[0;34m\u001b[0m\u001b[0m\n\u001b[1;32m     98\u001b[0m     \u001b[0mimg\u001b[0m \u001b[0;34m=\u001b[0m \u001b[0mimg\u001b[0m\u001b[0;34m.\u001b[0m\u001b[0mview\u001b[0m\u001b[0;34m(\u001b[0m\u001b[0mpic\u001b[0m\u001b[0;34m.\u001b[0m\u001b[0msize\u001b[0m\u001b[0;34m[\u001b[0m\u001b[0;36m1\u001b[0m\u001b[0;34m]\u001b[0m\u001b[0;34m,\u001b[0m \u001b[0mpic\u001b[0m\u001b[0;34m.\u001b[0m\u001b[0msize\u001b[0m\u001b[0;34m[\u001b[0m\u001b[0;36m0\u001b[0m\u001b[0;34m]\u001b[0m\u001b[0;34m,\u001b[0m \u001b[0mlen\u001b[0m\u001b[0;34m(\u001b[0m\u001b[0mpic\u001b[0m\u001b[0;34m.\u001b[0m\u001b[0mgetbands\u001b[0m\u001b[0;34m(\u001b[0m\u001b[0;34m)\u001b[0m\u001b[0;34m)\u001b[0m\u001b[0;34m)\u001b[0m\u001b[0;34m\u001b[0m\u001b[0;34m\u001b[0m\u001b[0m\n",
      "\u001b[0;31mKeyboardInterrupt\u001b[0m: "
     ]
    }
   ],
   "source": [
    "happy_prc = {\"ViT\":0 , \"RN50\":0}\n",
    "#fig, ax = plt.subplots(len(2*img_ids), 3, figsize=(16,16))\n",
    "import matplotlib.backends.backend_pdf\n",
    "#pdf = matplotlib.backends.backend_pdf.PdfPages(\"happydata_happy_vs_not-happy.pdf\")\n",
    "\n",
    "img_ids = []\n",
    "texts  = [\"this is a happy person\", \"this is not a happy person\"]\n",
    "happy_root = \"/scratch/students/2021-fall-sp-mamooler/CLIP-VIL/human_emotion/input/affectnetsample/class002\"\n",
    "for img in os.listdir(happy_root):\n",
    "    if img.endswith('.jpg'):\n",
    "        img_ids.append(img)\n",
    "        \n",
    "\n",
    "for id_, img_id in enumerate(img_ids):\n",
    "    \n",
    "    for model_id, model_type in enumerate(model_types):\n",
    "        \n",
    "        img_path =  os.path.join(happy_root, img_id)\n",
    "        image = ori_preprocess(Image.open(img_path))\n",
    "        p_image = preprocess(Image.open(img_path)).unsqueeze(0).to(device)\n",
    "\n",
    "        \n",
    "        #plt.subplot(subplot+i)\n",
    "        if model_type==\"ViT\":\n",
    "            current_model = model\n",
    "        elif model_type==\"RN50\":\n",
    "            current_model = model_rn\n",
    "        else:\n",
    "            current_model = model_rn_4\n",
    "            \n",
    "        similarities = sim_score(current_model, p_image, texts)\n",
    "        if similarities[0] > similarities[1]:\n",
    "            happy_prc[model_type] += 1\n",
    "        \"\"\"\n",
    "        else:\n",
    "        #    print(model_type, similarities)\n",
    "            fig = plt.figure(figsize=(16, 16))\n",
    "            plt.tight_layout()\n",
    "            plt.subplot(131)\n",
    "            plt.imshow(image.permute(1, 2, 0))\n",
    "            plt.axis('off')\n",
    "            plt.title(f\"{model_type}\", **font, y=-0.15)\n",
    "            \n",
    "            for i,text in enumerate(texts):\n",
    "                t_text = tokenize(text).to(device)\n",
    "                plt.subplot(132+i)\n",
    "                if model_type==\"ViT\":\n",
    "                    interpret_vit(model=current_model, image=p_image, text=t_text, device=device, index=0)\n",
    "                else:\n",
    "                    interpret_rn(model=current_model, image=p_image, text=t_text, device=device, index=0)\n",
    "                plt.axis('off')\n",
    "                plt.title(f\"{text} | {round(float(similarities[i]),4)}\", **font,y=-0.15)\n",
    "                plt.tight_layout()\n",
    "            pdf.savefig(fig)\n",
    "        \"\"\"\n",
    "\n",
    "for model_type, tp in happy_prc.items():\n",
    "    happy_prc[model_type] /= len(img_ids)\n",
    "#pdf.close()\n",
    "print(happy_prc)"
   ]
  },
  {
   "cell_type": "code",
   "execution_count": 12,
   "id": "133536a1-f91b-4664-8df1-c0e2984d5a2c",
   "metadata": {},
   "outputs": [],
   "source": [
    "sad_img_ids = []\n",
    "texts  = [\"this is a sad person\", \"this is not a sad person\"]\n",
    "sad_root = \"/scratch/students/2021-fall-sp-mamooler/CLIP-VIL/human_emotion/input/affectnetsample/class003\"\n",
    "for img in os.listdir(sad_root):\n",
    "    if img.endswith('.jpg'):\n",
    "        sad_img_ids.append(img)"
   ]
  },
  {
   "cell_type": "code",
   "execution_count": 14,
   "id": "4cc03981-dcbc-4d08-9ace-76782b918c4e",
   "metadata": {},
   "outputs": [
    {
     "name": "stdout",
     "output_type": "stream",
     "text": [
      "{'ViT': 0.162, 'RN50': 0.058}\n"
     ]
    }
   ],
   "source": [
    "sad_prc = {\"ViT\":0 , \"RN50\":0}\n",
    "#fig, ax = plt.subplots(len(2*img_ids), 3, figsize=(16,16))\n",
    "#pdf = matplotlib.backends.backend_pdf.PdfPages(\"saddata_sad_vs_not-sad.pdf\")\n",
    "for id_, img_id in enumerate(sad_img_ids):\n",
    "    \n",
    "    for model_id, model_type in enumerate(model_types):\n",
    "        \n",
    "        img_path =  os.path.join(sad_root, img_id)\n",
    "        image = ori_preprocess(Image.open(img_path))\n",
    "        p_image = preprocess(Image.open(img_path)).unsqueeze(0).to(device)\n",
    "\n",
    "\n",
    "        #plt.subplot(subplot+i)\n",
    "        if model_type==\"ViT\":\n",
    "            current_model = model\n",
    "        else:\n",
    "            current_model = model_rn\n",
    "      \n",
    "            \n",
    "        similarities = sim_score(current_model, p_image, texts)\n",
    "        if similarities[0] > similarities[1]:\n",
    "            sad_prc[model_type] += 1\n",
    "        \"\"\"\n",
    "        else:\n",
    "        #    print(model_type, similarities)\n",
    "            fig = plt.figure(figsize=(16, 16))\n",
    "            plt.tight_layout()\n",
    "            plt.subplot(131)\n",
    "            plt.imshow(image.permute(1, 2, 0))\n",
    "            plt.axis('off')\n",
    "            plt.title(f\"{model_type}\", **font, y=-0.15)\n",
    "            \n",
    "            for i,text in enumerate(texts):\n",
    "                t_text = tokenize(text).to(device)\n",
    "                plt.subplot(132+i)\n",
    "                if model_type==\"ViT\":\n",
    "                    interpret_vit(model=model, image=p_image, text=t_text, device=device, index=0)\n",
    "                else:\n",
    "                    interpret_rn(model=model_rn, image=p_image, text=t_text, device=device, index=0)\n",
    "                plt.axis('off')\n",
    "                plt.title(f\"{text} | {round(float(similarities[i]),4)}\", **font,y=-0.15)\n",
    "                plt.tight_layout()\n",
    "    \n",
    "            pdf.savefig(fig)\n",
    "        \"\"\"\n",
    "        \n",
    "for model_type, tp in sad_prc.items():\n",
    "    sad_prc[model_type] /= len(sad_img_ids)\n",
    "\n",
    "#pdf.close()\n",
    "print(sad_prc)"
   ]
  },
  {
   "cell_type": "markdown",
   "id": "623f6b71-5528-4a9c-9298-56fd9351d5e9",
   "metadata": {},
   "source": [
    "# Attention Bias"
   ]
  },
  {
   "cell_type": "code",
   "execution_count": 25,
   "id": "083a9608-bf7e-4803-bf08-c318e8f511be",
   "metadata": {},
   "outputs": [],
   "source": [
    "def interpret_vit(image, text, model, device, index=None):\n",
    "    logits_per_image, logits_per_text = model(image, text)\n",
    "    probs = logits_per_image.softmax(dim=-1).detach().cpu().numpy()\n",
    "    if index is None:\n",
    "        index = np.argmax(logits_per_image.cpu().data.numpy(), axis=-1)\n",
    "    one_hot = np.zeros((1, logits_per_image.size()[-1]), dtype=np.float32)\n",
    "    one_hot[0, index] = 1\n",
    "    one_hot = torch.from_numpy(one_hot).requires_grad_(True)\n",
    "    one_hot = torch.sum(one_hot.cuda() * logits_per_image)\n",
    "    model.zero_grad()\n",
    "    one_hot.backward(retain_graph=True)\n",
    "\n",
    "    image_attn_blocks = list(dict(model.visual.transformer.resblocks.named_children()).values())\n",
    "    num_tokens = image_attn_blocks[0].attn_probs.shape[-1]\n",
    "    R = torch.eye(num_tokens, num_tokens, dtype=image_attn_blocks[0].attn_probs.dtype).to(device)\n",
    "    for blk in image_attn_blocks:\n",
    "        grad = blk.attn_grad\n",
    "        cam = blk.attn_probs\n",
    "        cam = cam.reshape(-1, cam.shape[-1], cam.shape[-1])\n",
    "        grad = grad.reshape(-1, grad.shape[-1], grad.shape[-1])\n",
    "        cam = grad * cam\n",
    "        cam = cam.clamp(min=0).mean(dim=0)\n",
    "        R += torch.matmul(cam, R)\n",
    "    R[0, 0] = 0\n",
    "    image_relevance = R[0, 1:]\n",
    "\n",
    "  \n",
    "\n",
    "    image_relevance = image_relevance.reshape(1, 1, 7, 7)\n",
    "    image_relevance = torch.nn.functional.interpolate(image_relevance, size=224, mode='bilinear')\n",
    "    image_relevance = image_relevance.reshape(224, 224).cuda().data.cpu().numpy()\n",
    "    image_relevance = (image_relevance - image_relevance.min()) / (image_relevance.max() - image_relevance.min())\n",
    "    image_relevance = image_relevance / np.max(image_relevance)\n",
    "    image_relevance = np.uint8(255*image_relevance)\n",
    "    image_relevance = cv2.cvtColor(np.array(image_relevance), cv2.COLOR_RGB2BGR)\n",
    "\n",
    "    #plt.imshow(vis)\n",
    "    return image_relevance\n",
    "    #return vis\n",
    "#     plt.show()"
   ]
  },
  {
   "cell_type": "code",
   "execution_count": 26,
   "id": "ee27551b-4499-491d-85d7-a6276a4fd7eb",
   "metadata": {},
   "outputs": [],
   "source": [
    "def interpret_rn(image, text, model, device, index=None):   \n",
    "    image_features = model.encode_image(image)\n",
    "    text_features = model.encode_text(text)\n",
    "    image_features_norm = image_features.norm(dim=-1, keepdim=True)\n",
    "    image_features_new = image_features / image_features_norm\n",
    "    text_features_norm = text_features.norm(dim=-1, keepdim=True)\n",
    "    text_features_new = text_features / text_features_norm\n",
    "    \n",
    "    logit_scale = model.logit_scale.exp()\n",
    "    logits_per_image = logit_scale * image_features_new @ text_features_new.t()\n",
    "    probs = logits_per_image.softmax(dim=-1).cpu().detach().numpy().tolist()\n",
    "    \n",
    "    text_prediction = (text_features_new * image_features_norm)\n",
    "    image_relevance = grad_cam(model.visual, image.type(model.dtype), text_prediction, saliency_layer=layer)\n",
    "        \n",
    "\n",
    "\n",
    "    image_relevance = image_relevance.reshape(1, 1, 7, 7)\n",
    "    image_relevance = torch.nn.functional.interpolate(image_relevance, size=224, mode='bilinear')\n",
    "    image_relevance = image_relevance.reshape(224, 224).cuda().data.cpu().numpy()\n",
    "    image_relevance = (image_relevance - image_relevance.min()) / (image_relevance.max() - image_relevance.min())\n",
    "    image_relevance = image_relevance / np.max(image_relevance)\n",
    "    image_relevance = np.uint8(255*image_relevance)\n",
    "    image_relevance = cv2.cvtColor(np.array(image_relevance), cv2.COLOR_RGB2BGR)\n",
    "\n",
    "    return image_relevance"
   ]
  },
  {
   "cell_type": "code",
   "execution_count": 27,
   "id": "3c8777fe-2692-4e46-bd34-13fcfd9906f9",
   "metadata": {},
   "outputs": [],
   "source": [
    "image_ids = []\n",
    "root = \"/scratch/students/2021-fall-sp-mamooler/CLIP-VIL/human_emotion/input/affectnetsample/\"\n",
    "texts  = [\"this person is sad\", \"this person is happy\"]\n",
    "for directory in os.listdir(root):\n",
    "    for file in os.listdir(root+directory):\n",
    "        if file.endswith(\".jpg\"):\n",
    "            image_ids.append(f\"{directory}/{file}\")"
   ]
  },
  {
   "cell_type": "code",
   "execution_count": 28,
   "id": "ca195a90-ef37-4fdc-9652-785cebbfbd6a",
   "metadata": {},
   "outputs": [
    {
     "name": "stderr",
     "output_type": "stream",
     "text": [
      "/home/mamooler/miniconda/envs/habitat/lib/python3.7/site-packages/torch/nn/functional.py:3063: UserWarning: Default upsampling behavior when mode=bilinear is changed to align_corners=False since 0.4.0. Please specify align_corners=True if the old behavior is desired. See the documentation of nn.Upsample for details.\n",
      "  \"See the documentation of nn.Upsample for details.\".format(mode))\n",
      "/home/mamooler/miniconda/envs/habitat/lib/python3.7/site-packages/ipykernel_launcher.py:21: RuntimeWarning: invalid value encountered in true_divide\n"
     ]
    },
    {
     "data": {
      "image/png": "[encoded data removed]",
      "text/plain": [
       "<Figure size 432x288 with 1 Axes>"
      ]
     },
     "metadata": {
      "needs_background": "light"
     },
     "output_type": "display_data"
    },
    {
     "data": {
      "image/png": "[encoded data removed]",
      "text/plain": [
       "<Figure size 1440x1440 with 1 Axes>"
      ]
     },
     "metadata": {
      "needs_background": "light"
     },
     "output_type": "display_data"
    },
    {
     "data": {
      "image/png": "[encoded data removed]",
      "text/plain": [
       "<Figure size 1440x1440 with 1 Axes>"
      ]
     },
     "metadata": {
      "needs_background": "light"
     },
     "output_type": "display_data"
    }
   ],
   "source": [
    "model_types = [\"ViT\", \"RN50\"]\n",
    "\n",
    "for model_type in model_types:\n",
    "    vis = np.zeros(p_image[0].permute(1, 2, 0).size())\n",
    "    plt.imshow(vis)\n",
    "    for id_, img_id in enumerate(image_ids):\n",
    "\n",
    "            img_path =  os.path.join(root, img_id)\n",
    "            image = ori_preprocess(Image.open(img_path))\n",
    "            p_image = preprocess(Image.open(img_path)).unsqueeze(0).to(device)\n",
    "\n",
    "            for i,text in enumerate(texts):\n",
    "                t_text = tokenize(text).to(device)\n",
    "                if model_type==\"ViT\":\n",
    "                    vis += interpret_vit(model=model, image=p_image, text=t_text, device=device, index=0)/len(image_ids)\n",
    "                else:\n",
    "                    vis += interpret_rn(model=model_rn, image=p_image, text=t_text, device=device, index=0)/len(image_ids)\n",
    "    vis = vis/np.max(vis)\n",
    "    plt.figure(figsize=(20, 20))\n",
    "    plt.imshow(vis)\n",
    "    plt.axis('off')\n",
    "    plt.title(f\"{model_type}-average heatmap\", **font, y=-0.15)\n",
    "    plt.savefig(f'{model_type}attention_bias_affectnet.jpg', bbox_inches='tight')"
   ]
  },
  {
   "cell_type": "code",
   "execution_count": 262,
   "id": "c924cb16-31f1-4088-b1e3-60192ced0e09",
   "metadata": {},
   "outputs": [],
   "source": [
    "import math"
   ]
  },
  {
   "cell_type": "code",
   "execution_count": 265,
   "id": "c41965b8-11df-4175-9b1e-f004b6b9c7e0",
   "metadata": {},
   "outputs": [
    {
     "name": "stdout",
     "output_type": "stream",
     "text": [
      "0.01911983263525077\n",
      "0.036557461618662745\n",
      "0.008899438184514795\n",
      "0.018344263408488222\n",
      "0.032955242375075924\n",
      "0.020906649659857026\n"
     ]
    }
   ],
   "source": [
    "def margin_of_error(p, n):\n",
    "    return 2*math.sqrt((p*(1-p))/n)\n",
    "\n",
    "for p in [0.952, 0.788, 0.01, 0.044, 0.162, 0.058]:\n",
    "    print(margin_of_error(p, 500))"
   ]
  },
  {
   "cell_type": "code",
   "execution_count": null,
   "id": "dc2e8dbf-89b3-49e9-a888-d45fc0700510",
   "metadata": {},
   "outputs": [],
   "source": []
  }
 ],
 "metadata": {
  "kernelspec": {
   "display_name": "Python 3 (ipykernel)",
   "language": "python",
   "name": "python3"
  },
  "language_info": {
   "codemirror_mode": {
    "name": "ipython",
    "version": 3
   },
   "file_extension": ".py",
   "mimetype": "text/x-python",
   "name": "python",
   "nbconvert_exporter": "python",
   "pygments_lexer": "ipython3",
   "version": "3.7.9"
  }
 },
 "nbformat": 4,
 "nbformat_minor": 5
}
